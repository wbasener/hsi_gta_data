{
 "cells": [
  {
   "cell_type": "code",
   "execution_count": 2,
   "metadata": {},
   "outputs": [],
   "source": [
    "# Common useful packages\n",
    "import matplotlib.pyplot as plt\n",
    "from matplotlib import colors\n",
    "import numpy as np\n",
    "import copy\n",
    "\n",
    "# Useful package for reading and processing spectral data \n",
    "import spectral\n",
    "\n",
    "# Scripts associated with the SML4SI textbook \n",
    "import hyperspectral_gta_data"
   ]
  },
  {
   "cell_type": "code",
   "execution_count": 3,
   "metadata": {},
   "outputs": [
    {
     "name": "stderr",
     "output_type": "stream",
     "text": [
      "Downloading...\n",
      "From (original): https://drive.google.com/uc?id=13NGtcTWsViteI1J46IDXldlMPPOnTNLz\n",
      "From (redirected): https://drive.google.com/uc?id=13NGtcTWsViteI1J46IDXldlMPPOnTNLz&confirm=t&uuid=8bc6464c-16d1-4005-8be8-329598b1dce8\n",
      "To: c:\\Users\\wb8by\\Documents\\GitHub\\hsi_gta_data\\spectral_images\\WashingtonDC_Ref_156bands.zip\n",
      "100%|██████████| 88.6M/88.6M [00:02<00:00, 36.7MB/s]\n"
     ]
    },
    {
     "name": "stdout",
     "output_type": "stream",
     "text": [
      "File saved as: spectral_images/WashingtonDC_Ref_156bands/WashingtonDC_Ref_156bands\n",
      "File saved as: spectral_images/WashingtonDC_Ref_156bands/WashingtonDC_Ref_156bands.hdr\n"
     ]
    },
    {
     "data": {
      "text/plain": [
       "<hyperspectral_gta_data.data_download.download at 0x1c29b2d9dd0>"
      ]
     },
     "execution_count": 3,
     "metadata": {},
     "output_type": "execute_result"
    }
   ],
   "source": [
    "hyperspectral_gta_data.download('WashingtonDC')"
   ]
  },
  {
   "cell_type": "markdown",
   "metadata": {},
   "source": [
    "# PART 1: Open the image and load the data as a numpy array.\n",
    "- We use the spectral package for reading the metadata.\n",
    "- You should become familiar with the Spectral package: https://www.spectralpython.net/"
   ]
  },
  {
   "cell_type": "code",
   "execution_count": null,
   "metadata": {},
   "outputs": [],
   "source": [
    "# Open the image. This reads the metadata, but not the image data. \n",
    "#    \n",
    "#    CODING NOTES: \n",
    "#    1. The function spectral.envi.open takes filename(s) as input, and \n",
    "#       opens either a hyperspectral image or spectral library file.\n",
    "#       See: https://www.spectralpython.net/class_func_ref.html?highlight=envi#spectral.io.envi.open\n",
    "#\n",
    "#    2. The variable im is an object, which has both associated variables and methods that we will use.\n",
    "#       It is an instance of the spyfile class.\n",
    "#       See: https://www.spectralpython.net/class_func_ref.html?highlight=envi#spectral.SpyFile\n",
    "\n",
    "fname = 'spectral_images/WashingtonDC_Ref_156bands/WashingtonDC_Ref_156bands'\n",
    "im = spectral.envi.open(fname+'.hdr', fname)"
   ]
  },
  {
   "cell_type": "code",
   "execution_count": null,
   "metadata": {},
   "outputs": [],
   "source": [
    "# Print the number of rows, columns, and bands in the iamge, \n",
    "# which are stored in variables associated with the im object.\n",
    "#    CODING NOTES: using f'...{var_name}' is a seamless way to incorporate variable values in text.]\n",
    "\n",
    "print(f'Number of rows: {im.nrows}') \n",
    "print(f'Number of columns: {im.ncols}')\n",
    "print(f'Number of bands: {im.nbands}')\n",
    "\n",
    "# Print the wavelengths for the bands. Metadata about the bands are stored in the subclass im.bands.\n",
    "# Each band is a light measured acros a range of wavelengths. \n",
    "# The center values of the ranges is stored in the varaible im.bands.centers.\n",
    "\n",
    "print(f'Wavelengths for the band centers: {im.bands.centers}')"
   ]
  },
  {
   "cell_type": "code",
   "execution_count": null,
   "metadata": {},
   "outputs": [],
   "source": [
    "# Load the image data into a numpy array.\n",
    "#    See: https://www.spectralpython.net/class_func_ref.html?highlight=envi#spectral.SpyFile.load\n",
    "\n",
    "imArr = im.load()\n",
    "print(f'Shape of the image numpy array: {imArr.shape}')"
   ]
  },
  {
   "cell_type": "markdown",
   "metadata": {},
   "source": [
    "# PART 2: Viewing a grayscale and color image from the spectral image."
   ]
  },
  {
   "cell_type": "code",
   "execution_count": null,
   "metadata": {},
   "outputs": [],
   "source": [
    "# View a single band from the image\n",
    "band_idx = 50\n",
    "plt.figure(figsize=(15,15))\n",
    "plt.imshow(imArr[:,:,band_idx]);\n",
    "plt.xlabel('Column');\n",
    "plt.ylabel('Row');"
   ]
  },
  {
   "cell_type": "markdown",
   "metadata": {},
   "source": [
    "### The image is longer than it is wide.  It will be easier to view if we rotate it using np.rot90.\n",
    "### To have the y-axis display correct labels on the column numbers, we use np.flip(np.rot90(...,axis=0) together with plt.gca().invert_yaxis().\n",
    "### Also, we use the grayscale colormap, rather than the default viridis."
   ]
  },
  {
   "cell_type": "code",
   "execution_count": null,
   "metadata": {},
   "outputs": [],
   "source": [
    "# View a single band from the iamge\n",
    "band_idx = 50\n",
    "plt.figure(figsize=(15,5)) # This creates a figure of the specified size using figsize=(width,height).\n",
    "plt.imshow(np.flip(np.rot90(imArr[:,:,band_idx]), axis=0), cmap='gray');\n",
    "plt.gca().invert_yaxis()  # Invert the y-axis to fix the tick order\n",
    "plt.xlabel('Row');\n",
    "plt.ylabel('Column');"
   ]
  },
  {
   "cell_type": "markdown",
   "metadata": {},
   "source": [
    "## Create a color RGB (Red-Green-Blue) image from the hyperspectral image."
   ]
  },
  {
   "cell_type": "code",
   "execution_count": null,
   "metadata": {},
   "outputs": [],
   "source": [
    "# Create a numpy array of the wavelengths for the iamge bands\n",
    "wl = np.asarray(im.bands.centers)\n",
    "\n",
    "# determine the indices for the red, green, and blue bands\n",
    "red_band_idx = np.argmin(np.abs(wl-640))\n",
    "green_band_idx = np.argmin(np.abs(wl-550))\n",
    "blue_band_idx = np.argmin(np.abs(wl-460))\n",
    "\n",
    "print(f'red index = {red_band_idx}, with wavelength = {wl[red_band_idx]}')\n",
    "print(f'green index = {green_band_idx}, with wavelength = {wl[green_band_idx]}')\n",
    "print(f'blue index = {blue_band_idx}, with wavelength = {wl[blue_band_idx]}')"
   ]
  },
  {
   "cell_type": "code",
   "execution_count": null,
   "metadata": {},
   "outputs": [],
   "source": [
    "# View a single band from the image \n",
    "#     - this code shows that the imshow will not display the image properly unless we rescale the pixel values\n",
    "\n",
    "# Create a numpy array for the RGB image with shape (nrows, ncold, 3)\n",
    "imRGB = imArr[:,:,[red_band_idx, green_band_idx, blue_band_idx]]\n",
    "\n",
    "# plot the arraay\n",
    "plt.figure(figsize=(15,5)) \n",
    "plt.imshow(np.flip(np.rot90(imRGB), axis=0), cmap='gray');\n",
    "plt.gca().invert_yaxis()  # Invert the y-axis to fix the tick order\n",
    "plt.xlabel('Row');\n",
    "plt.ylabel('Column');"
   ]
  },
  {
   "cell_type": "code",
   "execution_count": null,
   "metadata": {},
   "outputs": [],
   "source": [
    "# View a single band from the image \n",
    "#     - this code shows rescale / normalize the pixel values in each band to [0,1] for viewing\n",
    "\n",
    "# Create a numpy array for the RGB image with shape (nrows, ncold, 3)\n",
    "imRGB = imArr[:,:,[red_band_idx, green_band_idx, blue_band_idx]]\n",
    "for i in range(3):\n",
    "    print(f'Initial min={np.min(imRGB[:,:,i])}, initial max={np.max(imRGB[:,:,i])}')\n",
    "    imRGB[:,:,i] = imRGB[:,:,i] - np.min(imRGB[:,:,i])\n",
    "    imRGB[:,:,i] = imRGB[:,:,i] / np.max(imRGB[:,:,i])\n",
    "    print(f'New min={np.min(imRGB[:,:,i])}, new max={np.max(imRGB[:,:,i])}')\n",
    "\n",
    "# plot the arraay\n",
    "plt.figure(figsize=(15,5)) \n",
    "plt.imshow(np.flip(np.rot90(imRGB), axis=0));\n",
    "plt.gca().invert_yaxis()  \n",
    "plt.xlabel('Row');\n",
    "plt.ylabel('Column');"
   ]
  },
  {
   "cell_type": "markdown",
   "metadata": {},
   "source": [
    "### This image apears dark and has low contrast.\n",
    "### The plot of the image will look better if we clip the values in each band so that the top 2% of pixels all have the maximum value, and the bottom 2% have the minimum value."
   ]
  },
  {
   "cell_type": "code",
   "execution_count": null,
   "metadata": {},
   "outputs": [],
   "source": [
    "# Clip the upper and lower 2% in each band, then rescale to [0,1] and show the image.\n",
    "\n",
    "# Create the RGB image, populated with the raw values for each band.\n",
    "imRGB = imArr[:,:,[red_band_idx, green_band_idx, blue_band_idx]]\n",
    "\n",
    "# Plot histograms of the pixel values before clipping.\n",
    "fig, axs = plt.subplots(1,3, figsize=(15,4));\n",
    "fig.suptitle('Histograms for the Raw Pixel Values for the Red, Green, and Blue Bands,'+\n",
    "             'with upper and lower 2% threshold values are shown as veritcal lines.')\n",
    "for i,clr in enumerate(['Red', 'Green', 'Blue']):\n",
    "    axs[i].hist(imRGB[:,:,i].flatten(), bins=100, color=clr)\n",
    "    lower_thresh = np.percentile(imRGB[:,:,i].flatten(), 2)\n",
    "    axs[i].axvline(lower_thresh)\n",
    "    upper_thresh = np.percentile(imRGB[:,:,i].flatten(), 98)\n",
    "    axs[i].axvline(upper_thresh)\n",
    "    axs[i].set_xlabel('Pixel Value')\n",
    "    axs[i].set_ylabel('Count')\n",
    "    axs[i].grid(True)\n",
    "plt.tight_layout()\n",
    "\n",
    "# Clip the bands\n",
    "imRGB_clipped = imArr[:,:,[red_band_idx, green_band_idx, blue_band_idx]]\n",
    "for i in range(3):\n",
    "    # Create a variable to hold a single band from the image. \n",
    "    # This is not the most computationally efficient method, but simplifies the code.\n",
    "    single_band = imRGB_clipped[:,:,i]\n",
    "    # Clip the band\n",
    "    lower_thresh = np.percentile(single_band.flatten(), 2)\n",
    "    single_band[single_band < lower_thresh] = lower_thresh\n",
    "    upper_thresh = np.percentile(single_band.flatten(), 98)\n",
    "    single_band[single_band > upper_thresh] = upper_thresh\n",
    "    # Rescale to [0,1].\n",
    "    single_band = single_band - lower_thresh\n",
    "    single_band = single_band / np.max(single_band)\n",
    "    # Put the values for this band back into the RGB image.\n",
    "    imRGB_clipped[:,:,i] = single_band\n",
    "\n",
    "# Plot histograms of the pixel values after clipping.\n",
    "fig, axs = plt.subplots(1,3, figsize=(15,4));\n",
    "fig.suptitle('Histograms for the Raw Pixel Values for the Red, Green, and Blue Bands,'+\n",
    "             'after clipping and rescaling to [0,1]')\n",
    "for i,clr in enumerate(['Red', 'Green', 'Blue']):\n",
    "    axs[i].hist(imRGB_clipped[:,:,i].flatten(), bins=100, color=clr)\n",
    "    axs[i].set_xlabel('Pixel Value')\n",
    "    axs[i].set_ylabel('Count')\n",
    "    axs[i].grid(True)\n",
    "plt.tight_layout()"
   ]
  },
  {
   "cell_type": "code",
   "execution_count": null,
   "metadata": {},
   "outputs": [],
   "source": [
    "# Plot the clipped and rescaled image.\n",
    "plt.figure(figsize=(15,5)) \n",
    "plt.imshow(np.flip(np.rot90(imRGB_clipped), axis=0));\n",
    "plt.gca().invert_yaxis()  \n",
    "plt.gca().set_axis_off()"
   ]
  },
  {
   "cell_type": "code",
   "execution_count": null,
   "metadata": {},
   "outputs": [],
   "source": [
    "# View a single band from the clipped image as a grayscale image.\n",
    "plt.figure(figsize=(15,5)) \n",
    "plt.imshow(np.flip(np.rot90(imRGB_clipped[:,:,1]), axis=0), cmap='gray');\n",
    "plt.gca().invert_yaxis()  \n",
    "plt.xlabel('Row');\n",
    "plt.ylabel('Column');"
   ]
  },
  {
   "cell_type": "markdown",
   "metadata": {},
   "source": [
    "# PART 3: Viewing pixel spectra from the image."
   ]
  },
  {
   "cell_type": "markdown",
   "metadata": {},
   "source": [
    "A simple visualization of the image, a labeled pixel, and the spectrum."
   ]
  },
  {
   "cell_type": "code",
   "execution_count": null,
   "metadata": {},
   "outputs": [],
   "source": [
    "# Select coordinates for some pixels\n",
    "loc = [200,178] # Location for the pixel\n",
    "name = 'VT1'\n",
    "\n",
    "# Create a copy of the image\n",
    "imRGBlabeled = copy.copy(imRGB_clipped)\n",
    "plt.figure(figsize=(15,10)) # Create a figure with width=15, height=10\n",
    "plt.subplot(2, 1, 1) # Create a grid of subplots with 2 rows and 1 column, and make plot 1 current\n",
    "r,c = loc # get the row and column for the pixel\n",
    "# Create a red plus-sign at the pixel.\n",
    "for dr in range(-2,3):\n",
    "    imRGBlabeled[r+dr, c, :] = [1,0,0]\n",
    "for dc in range(-2,3):\n",
    "    imRGBlabeled[r, c+dc, :] = [1,0,0]\n",
    "plt.imshow(np.flip(np.rot90(imRGBlabeled), axis=0), interpolation='none');\n",
    "plt.gca().invert_yaxis()  \n",
    "plt.text(r+10, c, name, size=12, c='r', ha='left', va='center') # Add the label\n",
    "plt.xlabel('Row');\n",
    "plt.ylabel('Column');\n",
    "\n",
    "plt.subplot(2, 1, 2) # For the grid of subplots with 2 rows and 1 column, and make plot 2 current\n",
    "plt.plot(wl,imArr[r,c,:].flatten(), label=name)\n",
    "plt.grid(True)\n",
    "plt.xlabel('Wavelength')\n",
    "plt.ylabel('Reflectance')\n",
    "plt.title('Reflectance Spectrum from Washington DC Image')\n",
    "plt.legend();\n",
    "\n",
    "plt.savefig('temp.png')\n",
    "\n"
   ]
  },
  {
   "cell_type": "code",
   "execution_count": null,
   "metadata": {},
   "outputs": [],
   "source": [
    "def plot_im_spectra(imArrRGB, imArr, locs):# Create a copy of the image\n",
    "    # Show the image imArr with the locations labeled\n",
    "    # Inputs:\n",
    "    #    imArrRGB: 3-dimensional numpy array for the visual RGB iamge\n",
    "    #    imArr: multi-dimensional numpy array for the spectral iamge\n",
    "    #    locations: list of [row,column,name,color] for each pixel of interest\n",
    "    \n",
    "    imRGBlabeled = copy.copy(imArrRGB)\n",
    "\n",
    "    plt.figure(figsize=(15,10)) \n",
    "    plt.subplot(2, 1, 1) \n",
    "    for r,c,n,clr in locs:\n",
    "        # Create a red plus-sign at the pixel.\n",
    "        for dr in range(-2,3):\n",
    "            imRGBlabeled[r+dr, c, :] = colors.to_rgb(clr)\n",
    "        for dc in range(-2,3):\n",
    "            imRGBlabeled[r, c+dc, :] = colors.to_rgb(clr)\n",
    "    # show the image\n",
    "    plt.imshow(np.flip(np.rot90(imRGBlabeled), axis=0), interpolation='nearest');\n",
    "    plt.gca().invert_yaxis()  \n",
    "    # Add the pixel markers and labels\n",
    "    for r,c,n,clr in locs:\n",
    "        plt.text(r+10, c, n, size=12, color=clr, ha='left', va='center') # Add the label\n",
    "    plt.xlabel('Row');\n",
    "    plt.ylabel('Column');\n",
    "\n",
    "    # Plot the spectra\n",
    "    plt.subplot(2, 1, 2) \n",
    "    for r,c,n,clr in locs:\n",
    "        plt.plot(wl,imArr[r,c,:].flatten(), label=n, color=clr)\n",
    "    plt.grid(True)\n",
    "    plt.xlabel('Wavelength')\n",
    "    plt.ylabel('Reflectance')\n",
    "    plt.title('Reflectance Spectra from Washington DC Image')\n",
    "    plt.legend();\n",
    "    \n",
    "    # Add zoom-in images\n",
    "    # make a fresh copy of the image without the 'plus' signes\n",
    "    imRGBlabeled = copy.copy(imArrRGB)\n",
    "    for r,c,n,clr in locs:\n",
    "        plt.figure() \n",
    "        # add the color to a single pixe;\n",
    "        imRGBlabeled[r, c, :] = colors.to_rgb(clr)\n",
    "        # show the image, zoomed in\n",
    "        plt.imshow(np.flip(np.rot90(imRGBlabeled[(r-20):(r+20),(c-20):(c+20),:]), axis=0), interpolation='nearest');\n",
    "        # add the text label\n",
    "        plt.text(30, 20, n, size=12, color=clr, ha='left', va='center') # Add the label\n",
    "        plt.gca().invert_yaxis()  \n",
    "        plt.xlabel('Row');\n",
    "        plt.ylabel('Column');"
   ]
  },
  {
   "cell_type": "code",
   "execution_count": null,
   "metadata": {},
   "outputs": [],
   "source": [
    "locs = [[200,175,'VegT1','r'], [300,175,'VegT2','g'], \n",
    "        [200,50,'VegG1','y'], [305,230,'VegG2','c'], \n",
    "        [456,162,'Monument','b']]\n",
    "plot_im_spectra(imRGB_clipped, imArr, locs)"
   ]
  }
 ],
 "metadata": {
  "kernelspec": {
   "display_name": "Python 3",
   "language": "python",
   "name": "python3"
  },
  "language_info": {
   "codemirror_mode": {
    "name": "ipython",
    "version": 3
   },
   "file_extension": ".py",
   "mimetype": "text/x-python",
   "name": "python",
   "nbconvert_exporter": "python",
   "pygments_lexer": "ipython3",
   "version": "3.11.3"
  }
 },
 "nbformat": 4,
 "nbformat_minor": 2
}
